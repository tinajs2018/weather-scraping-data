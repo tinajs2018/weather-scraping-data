{
 "cells": [
  {
   "cell_type": "code",
   "execution_count": 2,
   "metadata": {},
   "outputs": [],
   "source": [
    "from bs4 import BeautifulSoup\n",
    "import requests"
   ]
  },
  {
   "cell_type": "code",
   "execution_count": 3,
   "metadata": {},
   "outputs": [],
   "source": [
    "header={'https://meteo.go.ke/'}"
   ]
  },
  {
   "cell_type": "code",
   "execution_count": 9,
   "metadata": {},
   "outputs": [
    {
     "name": "stdout",
     "output_type": "stream",
     "text": [
      "Enter your cityembu\n"
     ]
    },
    {
     "data": {
      "text/plain": [
       "'embuweather'"
      ]
     },
     "execution_count": 9,
     "metadata": {},
     "output_type": "execute_result"
    }
   ],
   "source": [
    "def waether(city):\n",
    "    city=city.replace(\",\" '+')\n",
    "    request= request.get('https://meteo.go.ke/')\n",
    "    soup =Beautiful(res.text,'html.parser')\n",
    "    loaction=soup.select('Embu').getText.strip()\n",
    "    time=soup.select('1400').getText.strip()\n",
    "    weather=soup.select('climate').getText.strip()\n",
    "    print(location)\n",
    "    print(time)\n",
    "    print(cli)\n",
    "city=input('Enter your city')\n",
    "city=city + \"weather\"\n",
    "city"
   ]
  },
  {
   "cell_type": "code",
   "execution_count": null,
   "metadata": {},
   "outputs": [],
   "source": []
  }
 ],
 "metadata": {
  "kernelspec": {
   "display_name": "Python 3",
   "language": "python",
   "name": "python3"
  },
  "language_info": {
   "codemirror_mode": {
    "name": "ipython",
    "version": 3
   },
   "file_extension": ".py",
   "mimetype": "text/x-python",
   "name": "python",
   "nbconvert_exporter": "python",
   "pygments_lexer": "ipython3",
   "version": "3.7.4"
  }
 },
 "nbformat": 4,
 "nbformat_minor": 2
}
